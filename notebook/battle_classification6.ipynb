{
 "cells": [
  {
   "cell_type": "markdown",
   "metadata": {},
   "source": [
    "这里把只有时一的点位置的假设改成初始末端的位置都不知道来进行推断。为了避免混淆另开一个文件"
   ]
  },
  {
   "cell_type": "code",
   "execution_count": 1,
   "metadata": {
    "collapsed": true
   },
   "outputs": [],
   "source": [
    "import bayestorch as bt\n",
    "from bayestorch import Parameter,Data,Variable,optimizing,vb,sampling,reset\n",
    "import numpy as np\n",
    "import scipy\n",
    "import matplotlib.pyplot as plt\n",
    "import torch\n",
    "%matplotlib inline"
   ]
  },
  {
   "cell_type": "code",
   "execution_count": 2,
   "metadata": {
    "collapsed": true
   },
   "outputs": [],
   "source": [
    "from bayestorch.data.battle import friend_point,enemy_point,battle_point"
   ]
  },
  {
   "cell_type": "code",
   "execution_count": 3,
   "metadata": {
    "collapsed": true
   },
   "outputs": [],
   "source": [
    "friend_point1 = friend_point\n",
    "friend_point0 = friend_point - np.array([0.25,0.25]) + (np.random.random(size=friend_point.shape)-0.5)"
   ]
  },
  {
   "cell_type": "code",
   "execution_count": 4,
   "metadata": {
    "collapsed": true
   },
   "outputs": [],
   "source": [
    "timestamp = np.random.random(len(battle_point))"
   ]
  },
  {
   "cell_type": "code",
   "execution_count": 5,
   "metadata": {
    "collapsed": true
   },
   "outputs": [],
   "source": [
    "battle_point_time = np.c_[battle_point + np.c_[timestamp,timestamp], timestamp]"
   ]
  },
  {
   "cell_type": "code",
   "execution_count": 6,
   "metadata": {
    "collapsed": true
   },
   "outputs": [],
   "source": [
    "enemy_point0 = enemy_point\n",
    "enemy_point1 = enemy_point0 + np.array([0.5,0.5]) + (np.random.random(size=enemy_point0.shape)-0.5)"
   ]
  },
  {
   "cell_type": "code",
   "execution_count": 37,
   "metadata": {},
   "outputs": [],
   "source": [
    "def plot_move(x,y,dx,dy,head_width=0.1,**kwargs):\n",
    "    plt.scatter(x, y,alpha=0.5, **kwargs)\n",
    "    plt.scatter(x+dx, y+dy, alpha=1.0, **kwargs)\n",
    "    for i in range(x.shape[0]):\n",
    "        plt.arrow(x[i], y[i], dx[i], dy[i],head_width=head_width)\n",
    "\n",
    "def plot_path(x,y,x2,y2,**kwargs):\n",
    "    plot_move(x,y,x2-x,y2-y,**kwargs)"
   ]
  },
  {
   "cell_type": "code",
   "execution_count": 8,
   "metadata": {},
   "outputs": [
    {
     "data": {
      "image/png": "[encoded data removed]",
      "text/plain": [
       "<matplotlib.figure.Figure at 0x93aed68>"
      ]
     },
     "metadata": {},
     "output_type": "display_data"
    }
   ],
   "source": [
    "plot_move(friend_point0[:,0], friend_point0[:,1], friend_point1[:,0] - friend_point0[:,0], friend_point1[:,1] - friend_point0[:,1], color='blue')\n",
    "plot_move(enemy_point0[:,0], enemy_point0[:,1], enemy_point1[:,0] - enemy_point0[:,0], enemy_point1[:,1] - enemy_point0[:,1], color='red')\n",
    "for i in range(battle_point_time.shape[0]):\n",
    "    plt.scatter(battle_point_time[i,0],battle_point_time[i,1],color='green',alpha=battle_point_time[i,2]*0.5+0.5)"
   ]
  },
  {
   "cell_type": "code",
   "execution_count": 9,
   "metadata": {
    "collapsed": true
   },
   "outputs": [],
   "source": [
    "# transformed data\n",
    "\n",
    "_logPC = np.log([len(friend_point)/(len(friend_point)+len(enemy_point)),len(enemy_point)/(len(friend_point)+len(enemy_point))])\n",
    "\n",
    "from bayestorch.distributions import norm_log_prob\n",
    "from bayestorch.classifier import norm_naive_bayes_predict\n",
    "from bayestorch.utils import GridSampler2d,cdist,soft_cut_ge,soft_cut_le\n",
    "\n",
    "model = bt.core.current_model\n",
    "\n"
   ]
  },
  {
   "cell_type": "code",
   "execution_count": 10,
   "metadata": {
    "collapsed": true
   },
   "outputs": [],
   "source": [
    "# model\n",
    "\n",
    "reset()\n",
    "\n",
    "friend0 = Data(friend_point0)\n",
    "friend1 = Data(friend_point1)\n",
    "enemy0 = Parameter(enemy_point0)\n",
    "enemy1 = Parameter(enemy_point1)\n",
    "battle = Data(battle_point[:,:2])\n",
    "timestamp = Data(battle_point_time[:,2])\n",
    "logPC = Data(_logPC)\n",
    "\n",
    "conflict_threshold = 0.2\n",
    "distance_threshold = 1.0\n",
    "tense = 10.0\n",
    "alpha = 5.0\n",
    "prior_threshold = 5.0\n",
    "prior_tense = 5.0\n"
   ]
  },
  {
   "cell_type": "code",
   "execution_count": 11,
   "metadata": {
    "collapsed": true
   },
   "outputs": [],
   "source": [
    "def target():\n",
    "    # 由于每个时点所涉及的mu,sd发生了变化所以不能像之前那样统一的处理，暂时也没看出显然的向量化写法\n",
    "    target = Variable(torch.zeros(1))\n",
    "    for i in range(battle_point.shape[0]):\n",
    "        t = timestamp[i]\n",
    "        friend = friend0*(1-t) + friend1*t\n",
    "        enemy = enemy0*(1-t) + enemy1*t\n",
    "        single_battle = torch.unsqueeze(battle[i],0) # 这个应该会退化为向量，不一定符合结果\n",
    "        \n",
    "        friend_enemy = torch.cat((friend, enemy), 0)\n",
    "        distance = cdist(single_battle, friend_enemy).min(dim=1)[0]\n",
    "        \n",
    "        mu = Variable(torch.zeros(2,2)) #目前外层还有个同名的numpy.array mu,sd变量不要搞混了\n",
    "        sd = Variable(torch.zeros(2,2))\n",
    "\n",
    "        mu[0,:] = friend.mean(dim=0)\n",
    "        mu[1,:] = enemy.mean(dim=0)\n",
    "        sd[0,:] = friend.std(dim=0)\n",
    "        sd[1,:] = enemy.std(dim=0)\n",
    "\n",
    "        conflict = torch.exp(norm_naive_bayes_predict(single_battle, mu, sd, logPC)).prod(dim=1)\n",
    "        p = soft_cut_ge(conflict,conflict_threshold, tense = tense) * soft_cut_le(distance, distance_threshold, tense = tense)\n",
    "\n",
    "        target+= torch.sum(torch.log(p))\n",
    "    return target\n"
   ]
  },
  {
   "cell_type": "code",
   "execution_count": 12,
   "metadata": {},
   "outputs": [
    {
     "data": {
      "text/plain": [
       "(array([1.14536258, 4.97112098, 1.26680893, 4.45453514, 2.25314392,\n",
       "        3.53327154, 3.53503686, 3.03103795, 4.01648987, 2.32260965,\n",
       "        1.47131686, 5.74460219, 1.72716149, 4.39816583, 2.38641657,\n",
       "        3.62675321, 4.0791664 , 2.72383308, 4.11443435, 1.98752199]),\n",
       " array([-0.27637444, -0.10587621,  0.0814105 ,  0.11259341,  0.88706157,\n",
       "         0.58833553,  0.24541471,  0.2543795 ,  0.44564728,  0.8282455 ,\n",
       "         0.15971052,  0.31048716,  0.56162449,  0.65389653,  0.49470969,\n",
       "         0.49991817,  0.41792626,  0.73195078,  0.3694674 ,  0.72886738]))"
      ]
     },
     "execution_count": 12,
     "metadata": {},
     "output_type": "execute_result"
    }
   ],
   "source": [
    "res = vb(target)\n",
    "res"
   ]
  },
  {
   "cell_type": "code",
   "execution_count": 14,
   "metadata": {},
   "outputs": [
    {
     "data": {
      "text/plain": [
       "{'mu': array([[1.14536258, 4.97112098],\n",
       "        [1.26680893, 4.45453514],\n",
       "        [2.25314392, 3.53327154],\n",
       "        [3.53503686, 3.03103795],\n",
       "        [4.01648987, 2.32260965]]), 'omega': array([[-0.27637444, -0.10587621],\n",
       "        [ 0.0814105 ,  0.11259341],\n",
       "        [ 0.88706157,  0.58833553],\n",
       "        [ 0.24541471,  0.2543795 ],\n",
       "        [ 0.44564728,  0.8282455 ]])}"
      ]
     },
     "execution_count": 14,
     "metadata": {},
     "output_type": "execute_result"
    }
   ],
   "source": [
    "model.vb_meanfield_format(res)[enemy0]"
   ]
  },
  {
   "cell_type": "code",
   "execution_count": 15,
   "metadata": {},
   "outputs": [
    {
     "data": {
      "text/plain": [
       "{'mu': array([[1.47131686, 5.74460219],\n",
       "        [1.72716149, 4.39816583],\n",
       "        [2.38641657, 3.62675321],\n",
       "        [4.0791664 , 2.72383308],\n",
       "        [4.11443435, 1.98752199]]), 'omega': array([[0.15971052, 0.31048716],\n",
       "        [0.56162449, 0.65389653],\n",
       "        [0.49470969, 0.49991817],\n",
       "        [0.41792626, 0.73195078],\n",
       "        [0.3694674 , 0.72886738]])}"
      ]
     },
     "execution_count": 15,
     "metadata": {},
     "output_type": "execute_result"
    }
   ],
   "source": [
    "model.vb_meanfield_format(res)[enemy1]"
   ]
  },
  {
   "cell_type": "code",
   "execution_count": null,
   "metadata": {
    "collapsed": true
   },
   "outputs": [],
   "source": [
    "def display_data():\n",
    "    '''\n",
    "    plt.scatter(friend_point[:,0],friend_point[:,1],color='blue',label='friend')\n",
    "    plt.scatter(enemy_point[:,0],enemy_point[:,1],color='red',label='enemy')\n",
    "    plt.scatter(battle_point[:,0],battle_point[:,1],color='green',label='battle')\n",
    "    plt.legend()\n",
    "    '''\n",
    "    \n",
    "    plot_move(friend_point0[:,0], friend_point0[:,1], friend_point1[:,0] - friend_point0[:,0], friend_point1[:,1] - friend_point0[:,1], color='blue')\n",
    "    plot_move(enemy_point0[:,0], enemy_point0[:,1], enemy_point1[:,0] - enemy_point0[:,0], enemy_point1[:,1] - enemy_point0[:,1], color='red')\n",
    "    for i in range(battle_point_time.shape[0]):\n",
    "        plt.scatter(battle_point_time[i,0],battle_point_time[i,1],color='green',alpha=battle_point_time[i,2]*0.5+0.5)\n",
    "\n",
    "\n",
    "def show_change(enemy_point,enemy,show=False):\n",
    "    display_data()\n",
    "    for i in range(enemy_point.shape[0]):\n",
    "        #s = 0.1\n",
    "        plt.arrow(enemy_point[i][0], enemy_point[i][1], enemy.data[i][0] - enemy_point[i][0], enemy.data[i][1] - enemy_point[i][1],head_width=0.1)\n",
    "    plt.legend()\n",
    "    if show:\n",
    "        plt.show()\n",
    "\n",
    "\n",
    "def show_ellipse(enemy_point,enemy,mu,sd):\n",
    "    from matplotlib.patches import Ellipse\n",
    "    \n",
    "    #ax = plt.subplot(111)\n",
    "    ax = plt.gca() # get current axe, the lame method to support command style\n",
    "    show_change(enemy_point,enemy,show=False)\n",
    "    #res_reshaped = [r.reshape(enemy_point.shape) for r in res]\n",
    "    for i in range(enemy_point.shape[0]):\n",
    "        mu_x,mu_y = mu[i]\n",
    "        sd_x,sd_y = sd[i]\n",
    "        e=Ellipse((mu_x,mu_y), sd_x, sd_y, 0)\n",
    "        e.set_clip_box(ax.bbox)\n",
    "        e.set_alpha(0.1)\n",
    "        ax.add_artist(e)\n",
    "        \n",
    "    #plt.show()\n",
    "    \n",
    "    \n",
    "def show_vb(vb_res):\n",
    "    res = vb_res\n",
    "    model.set_parameter(res[0])\n",
    "    res_reshaped = [r.reshape(enemy_point.shape) for r in res]\n",
    "    mu = res_reshaped[0]\n",
    "    sd = np.exp(res_reshaped[1])\n",
    "    show_ellipse(enemy_point,enemy,mu,sd)"
   ]
  },
  {
   "cell_type": "code",
   "execution_count": 40,
   "metadata": {
    "collapsed": true
   },
   "outputs": [],
   "source": [
    "\n",
    "\n",
    "def show_ellipse(mu,sd,color=None,alpha=0.1):\n",
    "    from matplotlib.patches import Ellipse\n",
    "    \n",
    "    #ax = plt.subplot(111)\n",
    "    ax = plt.gca() # get current axe, the lame method to support command style\n",
    "    #show_change(enemy_point,enemy,show=False)\n",
    "    #res_reshaped = [r.reshape(enemy_point.shape) for r in res]\n",
    "    for i in range(mu.shape[0]):\n",
    "        mu_x,mu_y = mu[i]\n",
    "        sd_x,sd_y = sd[i]\n",
    "        e=Ellipse((mu_x,mu_y), sd_x, sd_y, 0)\n",
    "        e.set_clip_box(ax.bbox)\n",
    "        e.set_alpha(alpha)\n",
    "        e.set_facecolor(color=color)\n",
    "        ax.add_artist(e)\n",
    "\n",
    "def show_vb(vb_res):\n",
    "    est = model.vb_meanfield_format(vb_res)\n",
    "    plot_path(est[enemy0]['mu'][:,0], est[enemy0]['mu'][:,1], est[enemy1]['mu'][:,0], est[enemy1]['mu'][:,1],color='red')\n",
    "    plot_path(enemy_point0[:,0], enemy_point0[:,1], est[enemy0]['mu'][:,0], est[enemy0]['mu'][:,1],color='red')\n",
    "    show_ellipse(est[enemy0]['mu'], np.exp(est[enemy0]['omega']),alpha=0.1)\n",
    "    show_ellipse(est[enemy1]['mu'], np.exp(est[enemy1]['omega']),alpha=0.3)"
   ]
  },
  {
   "cell_type": "code",
   "execution_count": 41,
   "metadata": {
    "collapsed": true
   },
   "outputs": [],
   "source": [
    "def show_true(show_enemy=True,head_width = 0.1):\n",
    "    plot_move(friend_point0[:,0], friend_point0[:,1], friend_point1[:,0] - friend_point0[:,0], friend_point1[:,1] - friend_point0[:,1], \n",
    "              color='blue', head_width = head_width)\n",
    "    if show_enemy:\n",
    "        plot_move(enemy_point0[:,0], enemy_point0[:,1], enemy_point1[:,0] - enemy_point0[:,0], enemy_point1[:,1] - enemy_point0[:,1], \n",
    "                  color='red', head_width = head_width)\n",
    "    for i in range(battle_point_time.shape[0]):\n",
    "        plt.scatter(battle_point_time[i,0],battle_point_time[i,1],color='green',alpha=battle_point_time[i,2]*0.5+0.5)"
   ]
  },
  {
   "cell_type": "code",
   "execution_count": 44,
   "metadata": {},
   "outputs": [
    {
     "data": {
      "image/png": "[encoded data removed]",
      "text/plain": [
       "<matplotlib.figure.Figure at 0xa799c88>"
      ]
     },
     "metadata": {},
     "output_type": "display_data"
    }
   ],
   "source": [
    "plt.figure(figsize=(8,6))\n",
    "show_true(show_enemy=False, head_width=0.05)\n",
    "show_vb(res)\n",
    "plt.show()"
   ]
  },
  {
   "cell_type": "code",
   "execution_count": 28,
   "metadata": {
    "collapsed": true
   },
   "outputs": [],
   "source": [
    "    from matplotlib.patches import Ellipse\n"
   ]
  },
  {
   "cell_type": "code",
   "execution_count": 29,
   "metadata": {
    "collapsed": true
   },
   "outputs": [],
   "source": [
    "Ellipse.set_facecolor?"
   ]
  },
  {
   "cell_type": "code",
   "execution_count": null,
   "metadata": {
    "collapsed": true
   },
   "outputs": [],
   "source": []
  }
 ],
 "metadata": {
  "kernelspec": {
   "display_name": "Python 3",
   "language": "python",
   "name": "python3"
  },
  "language_info": {
   "codemirror_mode": {
    "name": "ipython",
    "version": 3
   },
   "file_extension": ".py",
   "mimetype": "text/x-python",
   "name": "python",
   "nbconvert_exporter": "python",
   "pygments_lexer": "ipython3",
   "version": "3.6.2"
  }
 },
 "nbformat": 4,
 "nbformat_minor": 2
}
